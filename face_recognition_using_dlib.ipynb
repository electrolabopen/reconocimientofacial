{
  "nbformat": 4,
  "nbformat_minor": 0,
  "metadata": {
    "colab": {
      "name": "face_recognition-using_dlib.ipynb",
      "provenance": [],
      "collapsed_sections": [],
      "authorship_tag": "ABX9TyPjLQfuw4yn9IpTHwi+6cMn",
      "include_colab_link": true
    },
    "kernelspec": {
      "name": "python3",
      "display_name": "Python 3"
    },
    "accelerator": "GPU"
  },
  "cells": [
    {
      "cell_type": "markdown",
      "metadata": {
        "id": "view-in-github",
        "colab_type": "text"
      },
      "source": [
        "<a href=\"https://colab.research.google.com/github/electrolabopen/reconocimientofacial/blob/master/face_recognition_using_dlib.ipynb\" target=\"_parent\"><img src=\"https://colab.research.google.com/assets/colab-badge.svg\" alt=\"Open In Colab\"/></a>"
      ]
    },
    {
      "cell_type": "markdown",
      "metadata": {
        "id": "wuZrfxNto321"
      },
      "source": [
        "#Instalamos la libreria face_recognition#"
      ]
    },
    {
      "cell_type": "code",
      "metadata": {
        "colab": {
          "base_uri": "https://localhost:8080/"
        },
        "id": "7GEr1EUph9Ki",
        "outputId": "731c154a-5e9a-4375-86b6-822f78412884"
      },
      "source": [
        "!pip install face_recognition"
      ],
      "execution_count": 1,
      "outputs": [
        {
          "output_type": "stream",
          "text": [
            "Collecting face_recognition\n",
            "  Downloading https://files.pythonhosted.org/packages/1e/95/f6c9330f54ab07bfa032bf3715c12455a381083125d8880c43cbe76bb3d0/face_recognition-1.3.0-py2.py3-none-any.whl\n",
            "Requirement already satisfied: Pillow in /usr/local/lib/python3.6/dist-packages (from face_recognition) (7.0.0)\n",
            "Collecting face-recognition-models>=0.3.0\n",
            "\u001b[?25l  Downloading https://files.pythonhosted.org/packages/cf/3b/4fd8c534f6c0d1b80ce0973d01331525538045084c73c153ee6df20224cf/face_recognition_models-0.3.0.tar.gz (100.1MB)\n",
            "\u001b[K     |████████████████████████████████| 100.2MB 42kB/s \n",
            "\u001b[?25hRequirement already satisfied: numpy in /usr/local/lib/python3.6/dist-packages (from face_recognition) (1.18.5)\n",
            "Requirement already satisfied: dlib>=19.7 in /usr/local/lib/python3.6/dist-packages (from face_recognition) (19.18.0)\n",
            "Requirement already satisfied: Click>=6.0 in /usr/local/lib/python3.6/dist-packages (from face_recognition) (7.1.2)\n",
            "Building wheels for collected packages: face-recognition-models\n",
            "  Building wheel for face-recognition-models (setup.py) ... \u001b[?25l\u001b[?25hdone\n",
            "  Created wheel for face-recognition-models: filename=face_recognition_models-0.3.0-py2.py3-none-any.whl size=100566173 sha256=4f77721931aba9c271a9f8db79cb4f5d96ab7efb9168dc48d5b57da45ae6f8f5\n",
            "  Stored in directory: /root/.cache/pip/wheels/d2/99/18/59c6c8f01e39810415c0e63f5bede7d83dfb0ffc039865465f\n",
            "Successfully built face-recognition-models\n",
            "Installing collected packages: face-recognition-models, face-recognition\n",
            "Successfully installed face-recognition-1.3.0 face-recognition-models-0.3.0\n"
          ],
          "name": "stdout"
        }
      ]
    },
    {
      "cell_type": "markdown",
      "metadata": {
        "id": "BrmkSNXCo_yi"
      },
      "source": [
        "#Clonamos el repositorio de la documentacion#"
      ]
    },
    {
      "cell_type": "code",
      "metadata": {
        "colab": {
          "base_uri": "https://localhost:8080/"
        },
        "id": "PfgYfsWfi7Zs",
        "outputId": "f0c35c6b-4e12-48a0-f008-cfe7eed063ef"
      },
      "source": [
        "!git clone https://github.com/ageitgey/face_recognition"
      ],
      "execution_count": 3,
      "outputs": [
        {
          "output_type": "stream",
          "text": [
            "Cloning into 'face_recognition'...\n",
            "remote: Enumerating objects: 942, done.\u001b[K\n",
            "remote: Total 942 (delta 0), reused 0 (delta 0), pack-reused 942\u001b[K\n",
            "Receiving objects: 100% (942/942), 101.48 MiB | 37.43 MiB/s, done.\n",
            "Resolving deltas: 100% (550/550), done.\n"
          ],
          "name": "stdout"
        }
      ]
    },
    {
      "cell_type": "markdown",
      "metadata": {
        "id": "VfuO66hMpFJr"
      },
      "source": [
        "#Nos hubicamos en la carpeta del repositorio#"
      ]
    },
    {
      "cell_type": "code",
      "metadata": {
        "colab": {
          "base_uri": "https://localhost:8080/"
        },
        "id": "TnDiKxU2kKPX",
        "outputId": "1a830026-773a-4b46-bd1b-00fd21f46362"
      },
      "source": [
        "%cd face_recognition/"
      ],
      "execution_count": 4,
      "outputs": [
        {
          "output_type": "stream",
          "text": [
            "/content/face_recognition\n"
          ],
          "name": "stdout"
        }
      ]
    },
    {
      "cell_type": "markdown",
      "metadata": {
        "id": "_dCRaKPMpMFi"
      },
      "source": [
        "#Nos hubicamos en la carpeta que contiene los ejemplos en un video#"
      ]
    },
    {
      "cell_type": "code",
      "metadata": {
        "colab": {
          "base_uri": "https://localhost:8080/"
        },
        "id": "vArqC19gkO96",
        "outputId": "0b505a88-283e-4075-98ef-33eebf5101a9"
      },
      "source": [
        "%cd /content/face_recognition/examples"
      ],
      "execution_count": 5,
      "outputs": [
        {
          "output_type": "stream",
          "text": [
            "/content/face_recognition/examples\n"
          ],
          "name": "stdout"
        }
      ]
    },
    {
      "cell_type": "markdown",
      "metadata": {
        "id": "u-irmpaQpTtx"
      },
      "source": [
        "#verificamos los archivos que contiene la carpeta#"
      ]
    },
    {
      "cell_type": "code",
      "metadata": {
        "colab": {
          "base_uri": "https://localhost:8080/"
        },
        "id": "CkgsaerdkV2Q",
        "outputId": "33cd232c-49bc-4630-898d-baa62651f53f"
      },
      "source": [
        "!ls"
      ],
      "execution_count": 6,
      "outputs": [
        {
          "output_type": "stream",
          "text": [
            "alex-lacamoire.png\n",
            "benchmark.py\n",
            "biden.jpg\n",
            "blink_detection.py\n",
            "blur_faces_on_webcam.py\n",
            "digital_makeup.py\n",
            "face_distance.py\n",
            "facerec_from_video_file.py\n",
            "facerec_from_webcam_faster.py\n",
            "facerec_from_webcam_multiprocessing.py\n",
            "facerec_from_webcam.py\n",
            "facerec_ipcamera_knn.py\n",
            "face_recognition_knn.py\n",
            "face_recognition_svm.py\n",
            "facerec_on_raspberry_pi.py\n",
            "facerec_on_raspberry_pi_Simplified_Chinese.py\n",
            "find_faces_in_batches.py\n",
            "find_faces_in_picture_cnn.py\n",
            "find_faces_in_picture.py\n",
            "find_facial_features_in_picture.py\n",
            "hamilton_clip.mp4\n",
            "identify_and_draw_boxes_on_faces.py\n",
            "ipynb_examples\n",
            "knn_examples\n",
            "lin-manuel-miranda.png\n",
            "obama-1080p.jpg\n",
            "obama-240p.jpg\n",
            "obama2.jpg\n",
            "obama-480p.jpg\n",
            "obama-720p.jpg\n",
            "obama.jpg\n",
            "obama_small.jpg\n",
            "probando.mp4\n",
            "recognize_faces_in_pictures.py\n",
            "short_hamilton_clip.mp4\n",
            "two_people.jpg\n",
            "web_service_example.py\n",
            "web_service_example_Simplified_Chinese.py\n",
            "yilber.png\n"
          ],
          "name": "stdout"
        }
      ]
    },
    {
      "cell_type": "markdown",
      "metadata": {
        "id": "1ZHnZhxspZ91"
      },
      "source": [
        "#Ejecutamos el archivo .py correspondiente, modiificamos el codigo para hacer un reconocimiento de una foto nueva#"
      ]
    },
    {
      "cell_type": "code",
      "metadata": {
        "id": "kpP1XDpLkZ5J"
      },
      "source": [
        "!python /content/face_recognition/examples/facerec_from_video_file.py"
      ],
      "execution_count": null,
      "outputs": []
    }
  ]
}